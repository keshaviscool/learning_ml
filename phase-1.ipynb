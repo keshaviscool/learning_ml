{
 "cells": [
  {
   "cell_type": "code",
   "execution_count": 2,
   "id": "5498cd41",
   "metadata": {},
   "outputs": [],
   "source": [
    "import numpy as np"
   ]
  },
  {
   "cell_type": "code",
   "execution_count": 3,
   "id": "f895400c",
   "metadata": {},
   "outputs": [
    {
     "name": "stdout",
     "output_type": "stream",
     "text": [
      "[1 2 3 4 5]\n",
      "[[1 2 3]\n",
      " [4 5 6]\n",
      " [1 2 5]]\n"
     ]
    }
   ],
   "source": [
    "## creating arrays \n",
    "\n",
    "arr_1d = np.array([1,2,3,4,5])\n",
    "\n",
    "print(arr_1d)\n",
    "\n",
    "arr_2d = np.array([[1,2,3], [4,5,6], [1,2,5,]])\n",
    "\n",
    "print(arr_2d)"
   ]
  },
  {
   "cell_type": "code",
   "execution_count": 4,
   "id": "7e6e2d96",
   "metadata": {},
   "outputs": [
    {
     "name": "stdout",
     "output_type": "stream",
     "text": [
      "Array multiplication by scalar [2 4 6]\n"
     ]
    }
   ],
   "source": [
    "np_array = np.array([1,2,3]) # element wise multipllication\n",
    "print(\"Array multiplication by scalar\", np_array * 2)"
   ]
  },
  {
   "cell_type": "code",
   "execution_count": 14,
   "id": "ee256ddd",
   "metadata": {},
   "outputs": [
    {
     "name": "stdout",
     "output_type": "stream",
     "text": [
      "\n",
      " List operation time:  0.05508923530578613\n",
      "\n",
      " NUMPY arraay operation time:  0.0018229484558105469\n"
     ]
    }
   ],
   "source": [
    "import time\n",
    "start = time.time()\n",
    "\n",
    "py_list = [i*2 for i in range(1000000)]\n",
    "\n",
    "print(\"\\n List operation time: \", time.time() - start)\n",
    "\n",
    "\n",
    "start = time.time()\n",
    "np_array = np.arange(1000000) * 2\n",
    "\n",
    "print(\"\\n NUMPY arraay operation time: \", time.time() - start)\n"
   ]
  },
  {
   "cell_type": "code",
   "execution_count": 30,
   "id": "d235e4f3",
   "metadata": {},
   "outputs": [
    {
     "name": "stdout",
     "output_type": "stream",
     "text": [
      "[[0.52355469 0.76301301 0.34154382]\n",
      " [0.6188967  0.78843731 0.67199466]]\n",
      "[ 0  2  4  6  8 10]\n"
     ]
    }
   ],
   "source": [
    "## creating arrays from scratch\n",
    "\n",
    "zeros = np.zeros((3,4)) # zero matrix\n",
    "\n",
    "# print(zeros)\n",
    "\n",
    "ones = np.ones((232,312)) ## identity matrix\n",
    "\n",
    "# print(ones) \n",
    "\n",
    "full_1 = np.full((2,2), 7)\n",
    "full_2 = np.ones((2,2))*7\n",
    "\n",
    "# print(full_1)\n",
    "\n",
    "# print(full_2)\n",
    "\n",
    "\n",
    "random = np.random.random((2,3)) # values between 0 to 1\n",
    "print(random)\n",
    "\n",
    "sequence = np.arange(0,11,2 ) # hahaha\n",
    "\n",
    "print(sequence)\n"
   ]
  },
  {
   "cell_type": "code",
   "execution_count": 40,
   "id": "7ee90067",
   "metadata": {},
   "outputs": [
    {
     "name": "stdout",
     "output_type": "stream",
     "text": [
      "shape (2, 2, 2)\n",
      "dimnesion 3\n",
      "size 8\n",
      "data type int64\n"
     ]
    }
   ],
   "source": [
    "## VECTORS, MATRIX and TENSOR\n",
    "\n",
    "vector = np.array([1,2,3]) # 1D array matlab ek array\n",
    "\n",
    "matrix = np.array([[1,2,3], \n",
    "                   [4,5,6]]) # two arrays\n",
    "\n",
    "# print(matrix)\n",
    "\n",
    "tensor = np.array([[[1,2], [3,4]],\n",
    "                   [[5,6], [8,9]]]) # multiple arrays dimensions\n",
    "\n",
    "# print(tensor)\n",
    "## ARRAY PROPERTIES / TENSOR PROP\n",
    "print(\"shape\", tensor.shape)\n",
    "print(\"dimnesion\", tensor.ndim)\n",
    "print(\"size\", tensor.size) ## total numver of elelments\n",
    "print(\"data type\", tensor.dtype)\n"
   ]
  },
  {
   "cell_type": "code",
   "execution_count": 51,
   "id": "acf5568a",
   "metadata": {},
   "outputs": [
    {
     "name": "stdout",
     "output_type": "stream",
     "text": [
      " Origianl array\n",
      " [ 0  1  2  3  4  5  6  7  8  9 10 11]\n",
      " reshaped aray\n",
      " [[ 0  1  2  3]\n",
      " [ 4  5  6  7]\n",
      " [ 8  9 10 11]]\n",
      "\n",
      " Flattened array [ 0  1  2  3  4  5  6  7  8  9 10 11]\n",
      "\n",
      " raveled array [ 0  1  2  3  4  5  6  7  8  9 10 11]\n",
      "[[ 0  4  8]\n",
      " [ 1  5  9]\n",
      " [ 2  6 10]\n",
      " [ 3  7 11]]\n"
     ]
    }
   ],
   "source": [
    "## Array reshaping\n",
    "\n",
    "arr = np.arange(12)\n",
    "print(\" Origianl array\\n\",arr)\n",
    "\n",
    "reshaped = arr.reshape((3,4))\n",
    "print(\" reshaped aray\\n\",reshaped)\n",
    "\n",
    "flattened = reshaped.flatten()\n",
    "print(\"\\n Flattened array\", flattened)\n",
    "\n",
    "## wow raveled\n",
    "# returns view, instead of copy\n",
    "# means this is changing origianl array right, \n",
    "raveled = reshaped.ravel()\n",
    "print(\"\\n raveled array\", raveled)\n",
    "\n",
    "# Transpose  (12th matrix)\n",
    "transpose  = reshaped.T\n",
    "\n",
    "print(transpose)\n"
   ]
  }
 ],
 "metadata": {
  "kernelspec": {
   "display_name": "venv",
   "language": "python",
   "name": "python3"
  },
  "language_info": {
   "codemirror_mode": {
    "name": "ipython",
    "version": 3
   },
   "file_extension": ".py",
   "mimetype": "text/x-python",
   "name": "python",
   "nbconvert_exporter": "python",
   "pygments_lexer": "ipython3",
   "version": "3.10.5"
  }
 },
 "nbformat": 4,
 "nbformat_minor": 5
}
