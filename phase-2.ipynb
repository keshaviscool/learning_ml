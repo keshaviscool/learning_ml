{
 "cells": [
  {
   "cell_type": "markdown",
   "id": "f0b685ab",
   "metadata": {},
   "source": [
    "### Numpy Array operations"
   ]
  },
  {
   "cell_type": "code",
   "execution_count": 1,
   "id": "9e98bce1",
   "metadata": {},
   "outputs": [],
   "source": [
    "import numpy as np"
   ]
  },
  {
   "cell_type": "code",
   "execution_count": 15,
   "id": "52e3e637",
   "metadata": {},
   "outputs": [
    {
     "name": "stdout",
     "output_type": "stream",
     "text": [
      "Specific element 6\n",
      "entire row [7 8 9]\n",
      "entire column [3 6 9]\n"
     ]
    }
   ],
   "source": [
    "## indexing and slicing\n",
    "\n",
    "# 1 D ARRAY\n",
    "arr = np.arange(0,10)\n",
    "# print(arr)\n",
    "# print(\"Basic Slicing\", arr[2:7])\n",
    "# print(\"with step\", arr[1:8:2])\n",
    "# print(\"Negative indexing\", arr[-3])\n",
    "\n",
    "\n",
    "# 2 D ARRAY \n",
    "arr_2d = np.array([[1,2,3,],\n",
    "                [4,5,6],\n",
    "                [7,8,9]])\n",
    "\n",
    "print(\"Specific element\", arr_2d[1, 2]) # first row third column \n",
    "print(\"entire row\", arr_2d[2, :]) # third row\n",
    "print(\"entire column\", arr_2d[:, 2]) # third column\n"
   ]
  },
  {
   "cell_type": "code",
   "execution_count": null,
   "id": "485db54e",
   "metadata": {},
   "outputs": [
    {
     "name": "stdout",
     "output_type": "stream",
     "text": [
      "Sorted Array:  [1 1 2 2 3 3 3 4 6 6 6 6 6 7 8]\n",
      "sorted 2d array by column [[1 1]\n",
      " [2 2]\n",
      " [3 3]]\n"
     ]
    }
   ],
   "source": [
    "## SORTING\n",
    "\n",
    "unsorted = np.array([3,1,1,4,6,6,2,3,6,3,6,2,7,8,6])\n",
    "print(\"Sorted Array: \", np.sort(unsorted))\n",
    "\n",
    "arr_2d_unsorted = np.array([[3,1], [1,2], [2, 3]])\n",
    "print(\"sorted 2d array by column\", np.sort(arr_2d_unsorted, axis=0)) # top to bottom ## use axis = 1 for sorting in row"
   ]
  },
  {
   "cell_type": "code",
   "execution_count": 23,
   "id": "b22e65ea",
   "metadata": {},
   "outputs": [
    {
     "name": "stdout",
     "output_type": "stream",
     "text": [
      "[ 1  2  3  4  5  6  7  8  9 10]\n",
      "[ 2  4  6  8 10]\n"
     ]
    }
   ],
   "source": [
    "\n",
    "## filters\n",
    "numbers = np.arange(1,11)\n",
    "print(numbers)\n",
    "\n",
    "even_number = numbers[numbers % 2 == 0] # if divided by 2 and return zero then include that otherwise exlcude\n",
    "print(even_number)"
   ]
  },
  {
   "cell_type": "code",
   "execution_count": 27,
   "id": "6d8300f7",
   "metadata": {},
   "outputs": [
    {
     "name": "stdout",
     "output_type": "stream",
     "text": [
      "WTF is mask [False False False False False  True  True  True  True  True]\n",
      "Numbers greater than 5  [ 6  7  8  9 10]\n"
     ]
    }
   ],
   "source": [
    "## filter with mask\n",
    "# expression that evaluates is actually a mask\n",
    "mask = numbers > 5\n",
    "print(\"WTF is mask\", mask) ## DAMNNN\n",
    "\n",
    "print(\"Numbers greater than 5 \", numbers[mask]) "
   ]
  },
  {
   "cell_type": "code",
   "execution_count": 35,
   "id": "07ff75b6",
   "metadata": {},
   "outputs": [
    {
     "name": "stdout",
     "output_type": "stream",
     "text": [
      "[1 3 5]\n",
      "NP WHERE [ 6  7  8  9 10]\n"
     ]
    }
   ],
   "source": [
    "## FANCY indexing vs np.where()\n",
    "\n",
    "## DAMNNNNNNN\n",
    "\n",
    "indices = [0, 2, 4]\n",
    "print(numbers[indices])\n",
    "\n",
    "where_result = np.where(numbers  > 5) ## it is a index matrix only used for masking \n",
    "print(\"NP WHERE\", numbers[where_result])"
   ]
  },
  {
   "cell_type": "code",
   "execution_count": 39,
   "id": "e38875b2",
   "metadata": {},
   "outputs": [
    {
     "name": "stdout",
     "output_type": "stream",
     "text": [
      "[ 1  2  3  4  5 24 28 32 36 40]\n"
     ]
    }
   ],
   "source": [
    "condition_array = np.where(numbers > 5, numbers*4, numbers) ## iska matlab hei,, jo numbers greater than 5 hein, unko 4 se multiple krde behenchod, aur baaki ka kuch mat k..  this is basically 'x' or 'y' if or else type cheez\n",
    "print(condition_array) ## basically returns indices of the given array jahan"
   ]
  },
  {
   "cell_type": "code",
   "execution_count": 41,
   "id": "c2eb4d5c",
   "metadata": {},
   "outputs": [
    {
     "name": "stdout",
     "output_type": "stream",
     "text": [
      "[1 2 3 4 5]\n"
     ]
    }
   ],
   "source": [
    "# ADDING AND REMOVING DATA\n",
    "\n",
    "arr1 = np.arange(1,4)\n",
    "arr2 = np.arange(4,6)\n",
    "\n",
    "combined = np.concatenate((arr1, arr2))\n",
    "\n",
    "print(combined)\n"
   ]
  },
  {
   "cell_type": "code",
   "execution_count": 51,
   "id": "753af46c",
   "metadata": {},
   "outputs": [
    {
     "name": "stdout",
     "output_type": "stream",
     "text": [
      "Compatibility shapes True\n"
     ]
    }
   ],
   "source": [
    "## array compatibility\n",
    "\n",
    "a = np.array([1,2,3])\n",
    "b = np.array([4,5,6])\n",
    "c = np.array([7,8,9])\n",
    "\n",
    "print(\"Compatibility shapes\", a.shape == b.shape)\n",
    "\n"
   ]
  },
  {
   "cell_type": "code",
   "execution_count": 65,
   "id": "5be069c9",
   "metadata": {},
   "outputs": [
    {
     "name": "stdout",
     "output_type": "stream",
     "text": [
      "[[1 2]\n",
      " [3 4]\n",
      " [5 6]]\n",
      "[[5 6]\n",
      " [1 2]\n",
      " [3 4]]\n",
      "[[1 2 7]\n",
      " [3 4 8]]\n"
     ]
    }
   ],
   "source": [
    "original =  np.array([[1,2,],\n",
    "                      [3,4,]])\n",
    "\n",
    "new_row = np.array([[5,6]])\n",
    "\n",
    "with_new_row = np.vstack((original, new_row))\n",
    "\n",
    "print(with_new_row)\n",
    "\n",
    "with_new_row = np.vstack((new_row, original))\n",
    "print(with_new_row)\n",
    "\n",
    "## V STACK ALLWAYS ADDED ROWWWWWWWWW\n",
    "# new_col = np.array([[7], [8]])\n",
    "# print(new_col.shape)\n",
    "new_column = np.arange(7,9).reshape((2,1))\n",
    "\n",
    "with_new_col = np.hstack((original, new_column)) ## adding new column\n",
    "\n",
    "print(with_new_col)"
   ]
  }
 ],
 "metadata": {
  "kernelspec": {
   "display_name": "venv",
   "language": "python",
   "name": "python3"
  },
  "language_info": {
   "codemirror_mode": {
    "name": "ipython",
    "version": 3
   },
   "file_extension": ".py",
   "mimetype": "text/x-python",
   "name": "python",
   "nbconvert_exporter": "python",
   "pygments_lexer": "ipython3",
   "version": "3.10.5"
  }
 },
 "nbformat": 4,
 "nbformat_minor": 5
}
